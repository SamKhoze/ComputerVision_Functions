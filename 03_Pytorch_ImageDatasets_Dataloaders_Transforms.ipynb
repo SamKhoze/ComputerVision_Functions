{
 "cells": [
  {
   "cell_type": "markdown",
   "id": "cee89ffe",
   "metadata": {},
   "source": [
    " # Image datasets, dataloaders, and transforms in Python using the Pytorch library\n",
    " \n",
    " Popular datasets such as ImageNet, CIFAR-10, and MNIST can be used as the basis for creating image datasets and Dataloaders. Popular image transforms such as random rotation, random crop, random horizontal or vertical flipping, normalization, and color augmentation can be used to create model-ready data. Dataloaders can be used to efficiently load batches of data from the dataset for model training.\n",
    " \n",
    "Data set download: https://www.cs.toronto.edu/~kriz/cifar.html"
   ]
  },
  {
   "cell_type": "markdown",
   "id": "b69d5c73",
   "metadata": {},
   "source": [
    "# Import libraries\n"
   ]
  },
  {
   "cell_type": "code",
   "execution_count": 19,
   "id": "209bc804",
   "metadata": {},
   "outputs": [],
   "source": [
    "import torch\n",
    "import torchvision\n",
    "import torchvision.transforms as transforms\n",
    "import numpy as np\n",
    "import matplotlib.pyplot as plt"
   ]
  },
  {
   "cell_type": "code",
   "execution_count": 20,
   "id": "416d98f8",
   "metadata": {},
   "outputs": [],
   "source": [
    "# Set the directory where your dataset is located\n",
    "data_path = '/Users/sam/Downloads/ComputerVision/cifar-10-batches-py' #change this path to your dataset folder"
   ]
  },
  {
   "cell_type": "markdown",
   "id": "6e6b1fc7",
   "metadata": {},
   "source": [
    "# define a custom data augmentation transform \n",
    "\n",
    "called CustomTransform, which includes random horizontal flips, vertical flips, and random rotations."
   ]
  },
  {
   "cell_type": "code",
   "execution_count": 21,
   "id": "0052ce98",
   "metadata": {},
   "outputs": [],
   "source": [
    "# Define a custom transform for data augmentation\n",
    "class CustomTransform:\n",
    "    def __call__(self, img):\n",
    "        # Randomly apply horizontal flip with a 50% chance\n",
    "        if np.random.rand() > 0.5:\n",
    "            img = transforms.functional.hflip(img)\n",
    "        \n",
    "        # Randomly apply vertical flip with a 50% chance\n",
    "        if np.random.rand() > 0.5:\n",
    "            img = transforms.functional.vflip(img)\n",
    "        \n",
    "        # Randomly rotate the image by a degree between -30 and 30\n",
    "        angle = np.random.uniform(-30, 30)\n",
    "        img = transforms.functional.rotate(img, angle)\n",
    "        \n",
    "        return img\n"
   ]
  },
  {
   "cell_type": "markdown",
   "id": "32973fd1",
   "metadata": {},
   "source": [
    "We then define separate transformations for the training and test datasets for both CIFAR-10 and MNIST, including random cropping, color jitter, normalization, and more. "
   ]
  },
  {
   "cell_type": "code",
   "execution_count": 22,
   "id": "9358976f",
   "metadata": {},
   "outputs": [],
   "source": [
    "# Define the transformations for train and test datasets\n",
    "train_transform = transforms.Compose([\n",
    "    transforms.RandomCrop(32, padding=4),\n",
    "    transforms.RandomHorizontalFlip(),\n",
    "    transforms.ColorJitter(brightness=0.2, contrast=0.2, saturation=0.2, hue=0.2),\n",
    "    transforms.ToTensor(),\n",
    "    transforms.Normalize(mean=[0.5, 0.5, 0.5], std=[0.5, 0.5, 0.5])\n",
    "])\n",
    "\n",
    "test_transform = transforms.Compose([\n",
    "    transforms.ToTensor(),\n",
    "    transforms.Normalize(mean=[0.5, 0.5, 0.5], std=[0.5, 0.5, 0.5])\n",
    "])\n"
   ]
  },
  {
   "cell_type": "markdown",
   "id": "2794d232",
   "metadata": {},
   "source": [
    "Custom datasets and dataloaders are created for each dataset, allowing you to efficiently load and preprocess the data for training and testing."
   ]
  },
  {
   "cell_type": "code",
   "execution_count": 23,
   "id": "c7fb629a",
   "metadata": {},
   "outputs": [
    {
     "name": "stdout",
     "output_type": "stream",
     "text": [
      "Downloading https://www.cs.toronto.edu/~kriz/cifar-10-python.tar.gz to /Users/sam/Downloads/ComputerVision/cifar-10-batches-py/cifar-10-python.tar.gz\n"
     ]
    },
    {
     "data": {
      "application/vnd.jupyter.widget-view+json": {
       "model_id": "77b1a3facb8a4b35a5d494e3e6555ac4",
       "version_major": 2,
       "version_minor": 0
      },
      "text/plain": [
       "0it [00:00, ?it/s]"
      ]
     },
     "metadata": {},
     "output_type": "display_data"
    },
    {
     "name": "stdout",
     "output_type": "stream",
     "text": [
      "Files already downloaded and verified\n"
     ]
    }
   ],
   "source": [
    "# Create CIFAR-10 datasets\n",
    "cifar10_train_dataset = torchvision.datasets.CIFAR10(root=data_path, train=True, download=True, transform=train_transform)\n",
    "cifar10_test_dataset = torchvision.datasets.CIFAR10(root=data_path, train=False, download=True, transform=test_transform)\n"
   ]
  },
  {
   "cell_type": "code",
   "execution_count": 24,
   "id": "a5a8c37b",
   "metadata": {},
   "outputs": [
    {
     "name": "stdout",
     "output_type": "stream",
     "text": [
      "Downloading http://yann.lecun.com/exdb/mnist/train-images-idx3-ubyte.gz to /Users/sam/Downloads/ComputerVision/cifar-10-batches-py/MNIST/raw/train-images-idx3-ubyte.gz\n"
     ]
    },
    {
     "data": {
      "application/vnd.jupyter.widget-view+json": {
       "model_id": "7b86365fc7c74d5eb50c497fe1004f8b",
       "version_major": 2,
       "version_minor": 0
      },
      "text/plain": [
       "0it [00:00, ?it/s]"
      ]
     },
     "metadata": {},
     "output_type": "display_data"
    },
    {
     "name": "stdout",
     "output_type": "stream",
     "text": [
      "Extracting /Users/sam/Downloads/ComputerVision/cifar-10-batches-py/MNIST/raw/train-images-idx3-ubyte.gz\n",
      "Downloading http://yann.lecun.com/exdb/mnist/train-labels-idx1-ubyte.gz to /Users/sam/Downloads/ComputerVision/cifar-10-batches-py/MNIST/raw/train-labels-idx1-ubyte.gz\n"
     ]
    },
    {
     "data": {
      "application/vnd.jupyter.widget-view+json": {
       "model_id": "8b4b240e5d4e40a3883bba8d494eec18",
       "version_major": 2,
       "version_minor": 0
      },
      "text/plain": [
       "0it [00:00, ?it/s]"
      ]
     },
     "metadata": {},
     "output_type": "display_data"
    },
    {
     "name": "stdout",
     "output_type": "stream",
     "text": [
      "Extracting /Users/sam/Downloads/ComputerVision/cifar-10-batches-py/MNIST/raw/train-labels-idx1-ubyte.gz\n",
      "Downloading http://yann.lecun.com/exdb/mnist/t10k-images-idx3-ubyte.gz to /Users/sam/Downloads/ComputerVision/cifar-10-batches-py/MNIST/raw/t10k-images-idx3-ubyte.gz\n"
     ]
    },
    {
     "data": {
      "application/vnd.jupyter.widget-view+json": {
       "model_id": "752046bd44c544cd90e64b346eb1c3b0",
       "version_major": 2,
       "version_minor": 0
      },
      "text/plain": [
       "0it [00:00, ?it/s]"
      ]
     },
     "metadata": {},
     "output_type": "display_data"
    },
    {
     "name": "stdout",
     "output_type": "stream",
     "text": [
      "Extracting /Users/sam/Downloads/ComputerVision/cifar-10-batches-py/MNIST/raw/t10k-images-idx3-ubyte.gz\n",
      "Downloading http://yann.lecun.com/exdb/mnist/t10k-labels-idx1-ubyte.gz to /Users/sam/Downloads/ComputerVision/cifar-10-batches-py/MNIST/raw/t10k-labels-idx1-ubyte.gz\n"
     ]
    },
    {
     "data": {
      "application/vnd.jupyter.widget-view+json": {
       "model_id": "f164580369ac4e7d9ce7d89e7630fa95",
       "version_major": 2,
       "version_minor": 0
      },
      "text/plain": [
       "0it [00:00, ?it/s]"
      ]
     },
     "metadata": {},
     "output_type": "display_data"
    },
    {
     "name": "stdout",
     "output_type": "stream",
     "text": [
      "Extracting /Users/sam/Downloads/ComputerVision/cifar-10-batches-py/MNIST/raw/t10k-labels-idx1-ubyte.gz\n",
      "Processing...\n",
      "Done!\n"
     ]
    },
    {
     "name": "stderr",
     "output_type": "stream",
     "text": [
      "/Users/sam/opt/anaconda3/lib/python3.8/site-packages/torchvision/datasets/mnist.py:335: UserWarning: The given NumPy array is not writable, and PyTorch does not support non-writable tensors. This means writing to this tensor will result in undefined behavior. You may want to copy the array to protect its data or make it writable before converting it to a tensor. This type of warning will be suppressed for the rest of this program. (Triggered internally at  /Users/runner/work/_temp/anaconda/conda-bld/pytorch_1659484782168/work/torch/csrc/utils/tensor_numpy.cpp:178.)\n",
      "  return torch.from_numpy(parsed).view(length, num_rows, num_cols)\n"
     ]
    }
   ],
   "source": [
    "# Create MNIST datasets\n",
    "mnist_train_dataset = torchvision.datasets.MNIST(root=data_path, train=True, download=True, transform=train_transform)\n",
    "mnist_test_dataset = torchvision.datasets.MNIST(root=data_path, train=False, download=True, transform=test_transform)\n"
   ]
  },
  {
   "cell_type": "code",
   "execution_count": 25,
   "id": "1368e35c",
   "metadata": {},
   "outputs": [],
   "source": [
    "# Create custom dataloaders\n",
    "batch_size = 64\n",
    "train_loader_cifar10 = torch.utils.data.DataLoader(cifar10_train_dataset, batch_size=batch_size, shuffle=True)\n",
    "test_loader_cifar10 = torch.utils.data.DataLoader(cifar10_test_dataset, batch_size=batch_size, shuffle=False)\n",
    "\n",
    "train_loader_mnist = torch.utils.data.DataLoader(mnist_train_dataset, batch_size=batch_size, shuffle=True)\n",
    "test_loader_mnist = torch.utils.data.DataLoader(mnist_test_dataset, batch_size=batch_size, shuffle=False)\n"
   ]
  },
  {
   "cell_type": "markdown",
   "id": "ee5f6cb4",
   "metadata": {},
   "source": [
    "display a random batch of images from the CIFAR-10 dataset as an example. "
   ]
  },
  {
   "cell_type": "code",
   "execution_count": 26,
   "id": "4c953ff6",
   "metadata": {},
   "outputs": [
    {
     "name": "stderr",
     "output_type": "stream",
     "text": [
      "Clipping input data to the valid range for imshow with RGB data ([0..1] for floats or [0..255] for integers).\n"
     ]
    },
    {
     "data": {
      "image/png": "[encoded data removed]",
      "text/plain": [
       "<Figure size 576x576 with 1 Axes>"
      ]
     },
     "metadata": {
      "needs_background": "light"
     },
     "output_type": "display_data"
    }
   ],
   "source": [
    "# Example: Display a random image from CIFAR-10 dataset\n",
    "dataiter = iter(train_loader_cifar10)\n",
    "images, labels = next(dataiter)\n",
    "plt.figure(figsize=(8, 8))\n",
    "plt.imshow(torchvision.utils.make_grid(images[:4]).numpy().transpose((1, 2, 0)))\n",
    "plt.axis('off')\n",
    "plt.show()"
   ]
  },
  {
   "cell_type": "code",
   "execution_count": null,
   "id": "366a947f",
   "metadata": {},
   "outputs": [],
   "source": []
  },
  {
   "cell_type": "code",
   "execution_count": null,
   "id": "0e51ae14",
   "metadata": {},
   "outputs": [],
   "source": []
  },
  {
   "cell_type": "code",
   "execution_count": null,
   "id": "ea36746a",
   "metadata": {},
   "outputs": [],
   "source": []
  },
  {
   "cell_type": "code",
   "execution_count": null,
   "id": "f267cfb3",
   "metadata": {},
   "outputs": [],
   "source": []
  },
  {
   "cell_type": "code",
   "execution_count": null,
   "id": "63dcc572",
   "metadata": {},
   "outputs": [],
   "source": []
  },
  {
   "cell_type": "markdown",
   "id": "81a0e007",
   "metadata": {},
   "source": [
    "# Image Dataset\n",
    "An image dataset can be created by defining the class which inherits the properties of torch.utils.data.Dataset class. This class has two abstract methods which have to be present in the derived class:\n",
    "\n",
    "__len__(): returns the number of samples present in the dataset.\n",
    "\n",
    "__getitem__(): returns the sample at the ith index from the dataset."
   ]
  },
  {
   "cell_type": "markdown",
   "id": "c08038bd",
   "metadata": {},
   "source": [
    "# load the image dataset in Pytorch"
   ]
  },
  {
   "cell_type": "code",
   "execution_count": 16,
   "id": "ee688f66",
   "metadata": {},
   "outputs": [],
   "source": [
    "# Creating a custom dataset class\n",
    "class ImageDataset(torch.utils.data.Dataset):\n",
    "    def __init__(self, dir, transform=None):\n",
    "        self.data_dir = dir\n",
    "        self.images = os.listdir(dir)\n",
    "        self.transform = transform\n",
    "\n",
    "    # Defining the length of the dataset\n",
    "    def __len__(self):\n",
    "        return len(self.images)\n",
    "\n",
    "    # Defining the method to get an item from the dataset\n",
    "    def __getitem__(self, index):\n",
    "        image_path = os.path.join(self.data_dir, self.images[index])\n",
    "        image = np.array(Image.open(image_path))\n",
    "\n",
    "        # Applying the transform\n",
    "        if self.transform:\n",
    "            image = self.transform(image)\n",
    "\n",
    "        return image\n"
   ]
  },
  {
   "cell_type": "markdown",
   "id": "f4eb6875",
   "metadata": {},
   "source": [
    "use this class on our sample dataset"
   ]
  },
  {
   "cell_type": "code",
   "execution_count": null,
   "id": "7f210e26",
   "metadata": {},
   "outputs": [],
   "source": []
  }
 ],
 "metadata": {
  "kernelspec": {
   "display_name": "Python 3",
   "language": "python",
   "name": "python3"
  },
  "language_info": {
   "codemirror_mode": {
    "name": "ipython",
    "version": 3
   },
   "file_extension": ".py",
   "mimetype": "text/x-python",
   "name": "python",
   "nbconvert_exporter": "python",
   "pygments_lexer": "ipython3",
   "version": "3.8.8"
  }
 },
 "nbformat": 4,
 "nbformat_minor": 5
}
